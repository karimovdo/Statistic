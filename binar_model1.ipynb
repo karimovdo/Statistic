{
 "cells": [
  {
   "cell_type": "code",
   "execution_count": 1,
   "id": "d00907ed",
   "metadata": {},
   "outputs": [],
   "source": [
    "import matplotlib.pyplot as plt\n",
    "import seaborn as sns\n",
    "import pandas as pd\n",
    "\n",
    "from sklearn.model_selection import train_test_split\n",
    "from sklearn.neighbors import KNeighborsClassifier\n",
    "from sklearn.svm import SVC\n",
    "from sklearn.tree import DecisionTreeClassifier\n",
    "from sklearn.ensemble import RandomForestClassifier\n",
    "from sklearn.naive_bayes import GaussianNB\n",
    "from sklearn.linear_model import LogisticRegression\n",
    "from sklearn.metrics import accuracy_score\n",
    "from sklearn.metrics import f1_score"
   ]
  },
  {
   "cell_type": "code",
   "execution_count": 2,
   "id": "57b08b5e",
   "metadata": {},
   "outputs": [],
   "source": [
    "#https://www.aionlinecourse.com/tutorial/machine-learning/logistic-regression\n",
    "data = pd.read_csv('C:/Users/MiPro/Desktop/python/gepatit.csv')\n"
   ]
  },
  {
   "cell_type": "code",
   "execution_count": 3,
   "id": "82a954e4",
   "metadata": {},
   "outputs": [],
   "source": [
    "#выбор группы\n",
    "#1   group    ['Geptor' 'K-' 'K+' 'Mexidol' 'OMU'] \n",
    "# 2   toxicant  ['APAP' 'CCL4' 'EtOH'] \n",
    "# 3   time      ['24h' '72h']\n",
    "parametr = 'toxicant'\n",
    "group = 'EtOH'"
   ]
  },
  {
   "cell_type": "code",
   "execution_count": 4,
   "id": "30d7ba8d",
   "metadata": {},
   "outputs": [],
   "source": [
    "from sklearn.preprocessing import LabelEncoder\n",
    "encoder = LabelEncoder()\n",
    "\n",
    "data[group] = data[parametr] == group \n",
    "\n",
    "data[group] = encoder.fit_transform(data[group])"
   ]
  },
  {
   "cell_type": "code",
   "execution_count": 5,
   "id": "24906d39",
   "metadata": {},
   "outputs": [
    {
     "name": "stdout",
     "output_type": "stream",
     "text": [
      "<class 'pandas.core.frame.DataFrame'>\n",
      "RangeIndex: 210 entries, 0 to 209\n",
      "Data columns (total 24 columns):\n",
      " #   Column    Non-Null Count  Dtype  \n",
      "---  ------    --------------  -----  \n",
      " 0   number    210 non-null    int64  \n",
      " 1   group     210 non-null    object \n",
      " 2   toxicant  210 non-null    object \n",
      " 3   time      210 non-null    object \n",
      " 4   Casp7     210 non-null    float64\n",
      " 5   Chek      210 non-null    float64\n",
      " 6   Gclc      210 non-null    float64\n",
      " 7   Gstm1     210 non-null    float64\n",
      " 8   Gstp1     210 non-null    float64\n",
      " 9   Gstt1     210 non-null    float64\n",
      " 10  Hmox      210 non-null    float64\n",
      " 11  Nfe2l2    210 non-null    float64\n",
      " 12  Nqo1      210 non-null    float64\n",
      " 13  Ripk      210 non-null    float64\n",
      " 14  Sod1      210 non-null    float64\n",
      " 15  AST       210 non-null    float64\n",
      " 16  ALT       210 non-null    float64\n",
      " 17  LDG       210 non-null    float64\n",
      " 18  AP        210 non-null    float64\n",
      " 19  TG        210 non-null    float64\n",
      " 20  HST       210 non-null    float64\n",
      " 21  protein   210 non-null    float64\n",
      " 22  MA        210 non-null    float64\n",
      " 23  EtOH      210 non-null    int64  \n",
      "dtypes: float64(19), int64(2), object(3)\n",
      "memory usage: 39.5+ KB\n"
     ]
    }
   ],
   "source": [
    "data.info()"
   ]
  },
  {
   "cell_type": "code",
   "execution_count": 6,
   "id": "b52aa9f9",
   "metadata": {},
   "outputs": [],
   "source": [
    "y = data[group] \n",
    "X = data.drop(columns=['number', 'group', 'toxicant', 'time',group,'AST','ALT','LDG','AP','TG','HST','protein','MA'])"
   ]
  },
  {
   "cell_type": "code",
   "execution_count": 7,
   "id": "d9d68e6f",
   "metadata": {},
   "outputs": [
    {
     "data": {
      "text/html": [
       "<div>\n",
       "<style scoped>\n",
       "    .dataframe tbody tr th:only-of-type {\n",
       "        vertical-align: middle;\n",
       "    }\n",
       "\n",
       "    .dataframe tbody tr th {\n",
       "        vertical-align: top;\n",
       "    }\n",
       "\n",
       "    .dataframe thead th {\n",
       "        text-align: right;\n",
       "    }\n",
       "</style>\n",
       "<table border=\"1\" class=\"dataframe\">\n",
       "  <thead>\n",
       "    <tr style=\"text-align: right;\">\n",
       "      <th></th>\n",
       "      <th>Casp7</th>\n",
       "      <th>Chek</th>\n",
       "      <th>Gclc</th>\n",
       "      <th>Gstm1</th>\n",
       "      <th>Gstp1</th>\n",
       "      <th>Gstt1</th>\n",
       "      <th>Hmox</th>\n",
       "      <th>Nfe2l2</th>\n",
       "      <th>Nqo1</th>\n",
       "      <th>Ripk</th>\n",
       "      <th>Sod1</th>\n",
       "    </tr>\n",
       "  </thead>\n",
       "  <tbody>\n",
       "    <tr>\n",
       "      <th>0</th>\n",
       "      <td>-0.551667</td>\n",
       "      <td>-1.432857</td>\n",
       "      <td>0.038571</td>\n",
       "      <td>-0.078571</td>\n",
       "      <td>-1.084286</td>\n",
       "      <td>0.278571</td>\n",
       "      <td>-0.491429</td>\n",
       "      <td>-1.600000</td>\n",
       "      <td>1.918571</td>\n",
       "      <td>-0.568571</td>\n",
       "      <td>1.111429</td>\n",
       "    </tr>\n",
       "    <tr>\n",
       "      <th>1</th>\n",
       "      <td>-0.231667</td>\n",
       "      <td>-3.512857</td>\n",
       "      <td>-0.681429</td>\n",
       "      <td>0.691429</td>\n",
       "      <td>-0.804286</td>\n",
       "      <td>-0.331429</td>\n",
       "      <td>-1.661429</td>\n",
       "      <td>-1.570000</td>\n",
       "      <td>2.198571</td>\n",
       "      <td>-1.148571</td>\n",
       "      <td>-0.728571</td>\n",
       "    </tr>\n",
       "    <tr>\n",
       "      <th>2</th>\n",
       "      <td>-0.561667</td>\n",
       "      <td>-1.252857</td>\n",
       "      <td>0.488571</td>\n",
       "      <td>0.521429</td>\n",
       "      <td>-0.384286</td>\n",
       "      <td>-0.221429</td>\n",
       "      <td>-0.941429</td>\n",
       "      <td>-1.480000</td>\n",
       "      <td>1.908571</td>\n",
       "      <td>-1.248571</td>\n",
       "      <td>-0.268571</td>\n",
       "    </tr>\n",
       "    <tr>\n",
       "      <th>3</th>\n",
       "      <td>-0.891667</td>\n",
       "      <td>-0.212857</td>\n",
       "      <td>0.498571</td>\n",
       "      <td>2.251429</td>\n",
       "      <td>-2.344286</td>\n",
       "      <td>-0.081429</td>\n",
       "      <td>0.188571</td>\n",
       "      <td>-0.820000</td>\n",
       "      <td>3.368571</td>\n",
       "      <td>-0.638571</td>\n",
       "      <td>-0.078571</td>\n",
       "    </tr>\n",
       "    <tr>\n",
       "      <th>4</th>\n",
       "      <td>0.128333</td>\n",
       "      <td>-1.312857</td>\n",
       "      <td>0.178571</td>\n",
       "      <td>2.511429</td>\n",
       "      <td>0.315714</td>\n",
       "      <td>-0.251429</td>\n",
       "      <td>0.258571</td>\n",
       "      <td>-1.580000</td>\n",
       "      <td>2.058571</td>\n",
       "      <td>-0.208571</td>\n",
       "      <td>0.111429</td>\n",
       "    </tr>\n",
       "    <tr>\n",
       "      <th>...</th>\n",
       "      <td>...</td>\n",
       "      <td>...</td>\n",
       "      <td>...</td>\n",
       "      <td>...</td>\n",
       "      <td>...</td>\n",
       "      <td>...</td>\n",
       "      <td>...</td>\n",
       "      <td>...</td>\n",
       "      <td>...</td>\n",
       "      <td>...</td>\n",
       "      <td>...</td>\n",
       "    </tr>\n",
       "    <tr>\n",
       "      <th>205</th>\n",
       "      <td>-0.968000</td>\n",
       "      <td>-0.401667</td>\n",
       "      <td>-0.265000</td>\n",
       "      <td>-1.181429</td>\n",
       "      <td>-2.740000</td>\n",
       "      <td>-1.752857</td>\n",
       "      <td>-1.325714</td>\n",
       "      <td>-0.985714</td>\n",
       "      <td>0.015714</td>\n",
       "      <td>-1.857143</td>\n",
       "      <td>-2.960000</td>\n",
       "    </tr>\n",
       "    <tr>\n",
       "      <th>206</th>\n",
       "      <td>-0.665000</td>\n",
       "      <td>0.175000</td>\n",
       "      <td>1.495000</td>\n",
       "      <td>1.588571</td>\n",
       "      <td>3.180000</td>\n",
       "      <td>0.677143</td>\n",
       "      <td>0.934286</td>\n",
       "      <td>0.434286</td>\n",
       "      <td>1.065714</td>\n",
       "      <td>-1.405000</td>\n",
       "      <td>-2.520000</td>\n",
       "    </tr>\n",
       "    <tr>\n",
       "      <th>207</th>\n",
       "      <td>0.642000</td>\n",
       "      <td>0.318333</td>\n",
       "      <td>3.595000</td>\n",
       "      <td>-1.131429</td>\n",
       "      <td>-1.490000</td>\n",
       "      <td>-1.892857</td>\n",
       "      <td>-1.065714</td>\n",
       "      <td>-0.945714</td>\n",
       "      <td>-0.274286</td>\n",
       "      <td>-0.997143</td>\n",
       "      <td>-2.790000</td>\n",
       "    </tr>\n",
       "    <tr>\n",
       "      <th>208</th>\n",
       "      <td>-1.078000</td>\n",
       "      <td>0.028333</td>\n",
       "      <td>0.005000</td>\n",
       "      <td>-0.931429</td>\n",
       "      <td>-1.450000</td>\n",
       "      <td>0.677143</td>\n",
       "      <td>-1.365714</td>\n",
       "      <td>-1.015714</td>\n",
       "      <td>0.545714</td>\n",
       "      <td>-1.297143</td>\n",
       "      <td>-3.290000</td>\n",
       "    </tr>\n",
       "    <tr>\n",
       "      <th>209</th>\n",
       "      <td>-0.358000</td>\n",
       "      <td>0.638333</td>\n",
       "      <td>1.195000</td>\n",
       "      <td>-0.191429</td>\n",
       "      <td>-1.850000</td>\n",
       "      <td>-1.832857</td>\n",
       "      <td>-0.755714</td>\n",
       "      <td>-0.665714</td>\n",
       "      <td>0.845714</td>\n",
       "      <td>-1.507143</td>\n",
       "      <td>-1.190000</td>\n",
       "    </tr>\n",
       "  </tbody>\n",
       "</table>\n",
       "<p>210 rows × 11 columns</p>\n",
       "</div>"
      ],
      "text/plain": [
       "        Casp7      Chek      Gclc     Gstm1     Gstp1     Gstt1      Hmox  \\\n",
       "0   -0.551667 -1.432857  0.038571 -0.078571 -1.084286  0.278571 -0.491429   \n",
       "1   -0.231667 -3.512857 -0.681429  0.691429 -0.804286 -0.331429 -1.661429   \n",
       "2   -0.561667 -1.252857  0.488571  0.521429 -0.384286 -0.221429 -0.941429   \n",
       "3   -0.891667 -0.212857  0.498571  2.251429 -2.344286 -0.081429  0.188571   \n",
       "4    0.128333 -1.312857  0.178571  2.511429  0.315714 -0.251429  0.258571   \n",
       "..        ...       ...       ...       ...       ...       ...       ...   \n",
       "205 -0.968000 -0.401667 -0.265000 -1.181429 -2.740000 -1.752857 -1.325714   \n",
       "206 -0.665000  0.175000  1.495000  1.588571  3.180000  0.677143  0.934286   \n",
       "207  0.642000  0.318333  3.595000 -1.131429 -1.490000 -1.892857 -1.065714   \n",
       "208 -1.078000  0.028333  0.005000 -0.931429 -1.450000  0.677143 -1.365714   \n",
       "209 -0.358000  0.638333  1.195000 -0.191429 -1.850000 -1.832857 -0.755714   \n",
       "\n",
       "       Nfe2l2      Nqo1      Ripk      Sod1  \n",
       "0   -1.600000  1.918571 -0.568571  1.111429  \n",
       "1   -1.570000  2.198571 -1.148571 -0.728571  \n",
       "2   -1.480000  1.908571 -1.248571 -0.268571  \n",
       "3   -0.820000  3.368571 -0.638571 -0.078571  \n",
       "4   -1.580000  2.058571 -0.208571  0.111429  \n",
       "..        ...       ...       ...       ...  \n",
       "205 -0.985714  0.015714 -1.857143 -2.960000  \n",
       "206  0.434286  1.065714 -1.405000 -2.520000  \n",
       "207 -0.945714 -0.274286 -0.997143 -2.790000  \n",
       "208 -1.015714  0.545714 -1.297143 -3.290000  \n",
       "209 -0.665714  0.845714 -1.507143 -1.190000  \n",
       "\n",
       "[210 rows x 11 columns]"
      ]
     },
     "execution_count": 7,
     "metadata": {},
     "output_type": "execute_result"
    }
   ],
   "source": [
    "X"
   ]
  },
  {
   "cell_type": "code",
   "execution_count": 8,
   "id": "7060ffeb",
   "metadata": {},
   "outputs": [
    {
     "name": "stderr",
     "output_type": "stream",
     "text": [
      "C:\\Users\\MiPro\\AppData\\Local\\Temp\\ipykernel_25176\\3748292191.py:39: FutureWarning: The frame.append method is deprecated and will be removed from pandas in a future version. Use pandas.concat instead.\n",
      "  log = log.append(log_entry)\n",
      "C:\\Users\\MiPro\\AppData\\Local\\Temp\\ipykernel_25176\\3748292191.py:39: FutureWarning: The frame.append method is deprecated and will be removed from pandas in a future version. Use pandas.concat instead.\n",
      "  log = log.append(log_entry)\n",
      "C:\\Users\\MiPro\\AppData\\Local\\Temp\\ipykernel_25176\\3748292191.py:39: FutureWarning: The frame.append method is deprecated and will be removed from pandas in a future version. Use pandas.concat instead.\n",
      "  log = log.append(log_entry)\n",
      "C:\\Users\\MiPro\\AppData\\Local\\Temp\\ipykernel_25176\\3748292191.py:39: FutureWarning: The frame.append method is deprecated and will be removed from pandas in a future version. Use pandas.concat instead.\n",
      "  log = log.append(log_entry)\n",
      "C:\\Users\\MiPro\\AppData\\Local\\Temp\\ipykernel_25176\\3748292191.py:39: FutureWarning: The frame.append method is deprecated and will be removed from pandas in a future version. Use pandas.concat instead.\n",
      "  log = log.append(log_entry)\n",
      "C:\\Users\\MiPro\\AppData\\Local\\Temp\\ipykernel_25176\\3748292191.py:39: FutureWarning: The frame.append method is deprecated and will be removed from pandas in a future version. Use pandas.concat instead.\n",
      "  log = log.append(log_entry)\n"
     ]
    },
    {
     "name": "stdout",
     "output_type": "stream",
     "text": [
      "               Classifier  Accuracy\n",
      "0    KNeighborsClassifier  0.962264\n",
      "0                     SVC  0.962264\n",
      "0  DecisionTreeClassifier   0.90566\n",
      "0  RandomForestClassifier  0.981132\n",
      "0              GaussianNB  0.962264\n",
      "0      LogisticRegression   0.90566\n"
     ]
    },
    {
     "data": {
      "image/png": "[encoded data removed]",
      "text/plain": [
       "<Figure size 432x288 with 1 Axes>"
      ]
     },
     "metadata": {
      "needs_background": "light"
     },
     "output_type": "display_data"
    }
   ],
   "source": [
    "classifiers = [\n",
    "    KNeighborsClassifier(5),\n",
    "    SVC(probability=True, kernel='rbf'),\n",
    "    DecisionTreeClassifier(),\n",
    "    RandomForestClassifier(),\n",
    "    GaussianNB(),\n",
    "    LogisticRegression(# метод для поиска решения. Для небольших датасетов лучше подходит liblinear, sag и saga -- для больших.\n",
    "    # Варианты: newton-cg, lbfgs, liblinear, sag, saga\n",
    "    solver='liblinear',\n",
    "    # норма для регуляризации. Варианты: l2, l1.\n",
    "    penalty='l2',\n",
    "    # параметр регуляризации. Чем меньше, тем сильнее регуляризация. Положительный.\n",
    "    C=1,\n",
    "    # параметр для остановки поиска решения.\n",
    "    tol=1e-4,\n",
    "    # Так как распознается 2 класса.\n",
    "    multi_class='ovr'),\n",
    "]\n",
    "\n",
    "log_cols = [\"Classifier\", \"Accuracy\"]\n",
    "log = pd.DataFrame(columns=log_cols)\n",
    "\n",
    "X_train, X_test, y_train, y_test = train_test_split(X, y, test_size = 0.25, random_state = 0)\n",
    "acc_dict = {}\n",
    "\n",
    "for clf in classifiers:\n",
    "    name = clf.__class__.__name__\n",
    "    clf.fit(X_train, y_train)\n",
    "    train_predictions = clf.predict(X_test)\n",
    "    acc = accuracy_score(y_test, train_predictions)\n",
    "    if name in acc_dict:\n",
    "        acc_dict[name] += acc\n",
    "    else:\n",
    "        acc_dict[name] = acc\n",
    "\n",
    "for clf in acc_dict:\n",
    "    acc_dict[clf] = acc_dict[clf] \n",
    "    log_entry = pd.DataFrame([[clf, acc_dict[clf]]], columns=log_cols)\n",
    "    log = log.append(log_entry)\n",
    "\n",
    "plt.xlabel('Accuracy')\n",
    "plt.title('Classifier Accuracy')\n",
    "\n",
    "sns.set_color_codes(\"muted\")\n",
    "sns.barplot(x='Accuracy', y='Classifier', data=log.sort_values(by='Accuracy'), color=\"b\")\n",
    "\n",
    "print(log)"
   ]
  },
  {
   "cell_type": "code",
   "execution_count": 9,
   "id": "2e9a3555",
   "metadata": {},
   "outputs": [
    {
     "name": "stdout",
     "output_type": "stream",
     "text": [
      "KNeighborsClassifier\n"
     ]
    },
    {
     "data": {
      "image/png": "[encoded data removed]",
      "text/plain": [
       "<Figure size 432x288 with 1 Axes>"
      ]
     },
     "metadata": {
      "needs_background": "light"
     },
     "output_type": "display_data"
    }
   ],
   "source": [
    "print('KNeighborsClassifier')\n",
    "\n",
    "model = KNeighborsClassifier(5)\n",
    "\n",
    "model.fit(X, y)\n",
    "preds = model.predict(X)\n",
    "from sklearn import metrics\n",
    "conf_mat = metrics.confusion_matrix(y, preds)\n",
    "conf_mat = pd.DataFrame(conf_mat, index=model.classes_, columns=model.classes_)\n",
    "conf_mat\n",
    "pred_prob = model.predict_proba(X)\n",
    "preds = pred_prob[:,1]\n",
    "fpr, tpr, threshold = metrics.roc_curve(y, preds)\n",
    "roc_auc = metrics.auc(fpr, tpr)\n",
    "\n",
    "\n",
    "# method I: plt\n",
    "import matplotlib.pyplot as plt\n",
    "plt.title('Receiver Operating Characteristic')\n",
    "plt.plot(fpr, tpr, 'b', label = 'AUC = %0.2f' % roc_auc)\n",
    "plt.legend(loc = 'lower right')\n",
    "plt.plot([0, 1], [0, 1],'r--')\n",
    "plt.xlim([0, 1])\n",
    "plt.ylim([0, 1])\n",
    "plt.ylabel('True Positive Rate')\n",
    "plt.xlabel('False Positive Rate')\n",
    "plt.show()\n",
    "\n"
   ]
  },
  {
   "cell_type": "code",
   "execution_count": 10,
   "id": "3be982d5",
   "metadata": {},
   "outputs": [
    {
     "name": "stdout",
     "output_type": "stream",
     "text": [
      "SVC\n"
     ]
    },
    {
     "data": {
      "image/png": "[encoded data removed]",
      "text/plain": [
       "<Figure size 432x288 with 1 Axes>"
      ]
     },
     "metadata": {
      "needs_background": "light"
     },
     "output_type": "display_data"
    }
   ],
   "source": [
    "print('SVC')\n",
    "\n",
    "model = SVC(probability=True, kernel='rbf')\n",
    "\n",
    "model.fit(X, y)\n",
    "preds = model.predict(X)\n",
    "from sklearn import metrics\n",
    "conf_mat = metrics.confusion_matrix(y, preds)\n",
    "conf_mat = pd.DataFrame(conf_mat, index=model.classes_, columns=model.classes_)\n",
    "conf_mat\n",
    "pred_prob = model.predict_proba(X)\n",
    "preds = pred_prob[:,1]\n",
    "fpr, tpr, threshold = metrics.roc_curve(y, preds)\n",
    "roc_auc = metrics.auc(fpr, tpr)\n",
    "\n",
    "\n",
    "# method I: plt\n",
    "import matplotlib.pyplot as plt\n",
    "plt.title('Receiver Operating Characteristic')\n",
    "plt.plot(fpr, tpr, 'b', label = 'AUC = %0.2f' % roc_auc)\n",
    "plt.legend(loc = 'lower right')\n",
    "plt.plot([0, 1], [0, 1],'r--')\n",
    "plt.xlim([0, 1])\n",
    "plt.ylim([0, 1])\n",
    "plt.ylabel('True Positive Rate')\n",
    "plt.xlabel('False Positive Rate')\n",
    "plt.show()\n",
    "\n"
   ]
  },
  {
   "cell_type": "code",
   "execution_count": 11,
   "id": "aaf88eec",
   "metadata": {},
   "outputs": [
    {
     "name": "stdout",
     "output_type": "stream",
     "text": [
      "DecisionTreeClassifier\n"
     ]
    },
    {
     "data": {
      "image/png": "[encoded data removed]",
      "text/plain": [
       "<Figure size 432x288 with 1 Axes>"
      ]
     },
     "metadata": {
      "needs_background": "light"
     },
     "output_type": "display_data"
    }
   ],
   "source": [
    "print('DecisionTreeClassifier')\n",
    "    \n",
    "model = DecisionTreeClassifier()\n",
    "\n",
    "model.fit(X, y)\n",
    "preds = model.predict(X)\n",
    "from sklearn import metrics\n",
    "conf_mat = metrics.confusion_matrix(y, preds)\n",
    "conf_mat = pd.DataFrame(conf_mat, index=model.classes_, columns=model.classes_)\n",
    "conf_mat\n",
    "pred_prob = model.predict_proba(X)\n",
    "preds = pred_prob[:,1]\n",
    "fpr, tpr, threshold = metrics.roc_curve(y, preds)\n",
    "roc_auc = metrics.auc(fpr, tpr)\n",
    "\n",
    "\n",
    "# method I: plt\n",
    "import matplotlib.pyplot as plt\n",
    "plt.title('Receiver Operating Characteristic')\n",
    "plt.plot(fpr, tpr, 'b', label = 'AUC = %0.2f' % roc_auc)\n",
    "plt.legend(loc = 'lower right')\n",
    "plt.plot([0, 1], [0, 1],'r--')\n",
    "plt.xlim([0, 1])\n",
    "plt.ylim([0, 1])\n",
    "plt.ylabel('True Positive Rate')\n",
    "plt.xlabel('False Positive Rate')\n",
    "plt.show()\n",
    "\n"
   ]
  },
  {
   "cell_type": "code",
   "execution_count": 12,
   "id": "8c744280",
   "metadata": {},
   "outputs": [
    {
     "name": "stdout",
     "output_type": "stream",
     "text": [
      "RandomForestClassifier\n"
     ]
    },
    {
     "data": {
      "image/png": "[encoded data removed]",
      "text/plain": [
       "<Figure size 432x288 with 1 Axes>"
      ]
     },
     "metadata": {
      "needs_background": "light"
     },
     "output_type": "display_data"
    }
   ],
   "source": [
    "print('RandomForestClassifier')\n",
    "model = RandomForestClassifier()\n",
    "\n",
    "model.fit(X, y)\n",
    "preds = model.predict(X)\n",
    "from sklearn import metrics\n",
    "conf_mat = metrics.confusion_matrix(y, preds)\n",
    "conf_mat = pd.DataFrame(conf_mat, index=model.classes_, columns=model.classes_)\n",
    "conf_mat\n",
    "pred_prob = model.predict_proba(X)\n",
    "preds = pred_prob[:,1]\n",
    "fpr, tpr, threshold = metrics.roc_curve(y, preds)\n",
    "roc_auc = metrics.auc(fpr, tpr)\n",
    "\n",
    "\n",
    "# method I: plt\n",
    "import matplotlib.pyplot as plt\n",
    "plt.title('Receiver Operating Characteristic')\n",
    "plt.plot(fpr, tpr, 'b', label = 'AUC = %0.2f' % roc_auc)\n",
    "plt.legend(loc = 'lower right')\n",
    "plt.plot([0, 1], [0, 1],'r--')\n",
    "plt.xlim([0, 1])\n",
    "plt.ylim([0, 1])\n",
    "plt.ylabel('True Positive Rate')\n",
    "plt.xlabel('False Positive Rate')\n",
    "plt.show()\n",
    "\n"
   ]
  },
  {
   "cell_type": "code",
   "execution_count": 13,
   "id": "116c346c",
   "metadata": {},
   "outputs": [
    {
     "name": "stdout",
     "output_type": "stream",
     "text": [
      "GaussianNB\n"
     ]
    },
    {
     "data": {
      "image/png": "[encoded data removed]",
      "text/plain": [
       "<Figure size 432x288 with 1 Axes>"
      ]
     },
     "metadata": {
      "needs_background": "light"
     },
     "output_type": "display_data"
    }
   ],
   "source": [
    "print('GaussianNB')\n",
    "model = GaussianNB()\n",
    "\n",
    "model.fit(X, y)\n",
    "preds = model.predict(X)\n",
    "from sklearn import metrics\n",
    "conf_mat = metrics.confusion_matrix(y, preds)\n",
    "conf_mat = pd.DataFrame(conf_mat, index=model.classes_, columns=model.classes_)\n",
    "conf_mat\n",
    "pred_prob = model.predict_proba(X)\n",
    "preds = pred_prob[:,1]\n",
    "fpr, tpr, threshold = metrics.roc_curve(y, preds)\n",
    "roc_auc = metrics.auc(fpr, tpr)\n",
    "\n",
    "\n",
    "# method I: plt\n",
    "import matplotlib.pyplot as plt\n",
    "plt.title('Receiver Operating Characteristic')\n",
    "plt.plot(fpr, tpr, 'b', label = 'AUC = %0.2f' % roc_auc)\n",
    "plt.legend(loc = 'lower right')\n",
    "plt.plot([0, 1], [0, 1],'r--')\n",
    "plt.xlim([0, 1])\n",
    "plt.ylim([0, 1])\n",
    "plt.ylabel('True Positive Rate')\n",
    "plt.xlabel('False Positive Rate')\n",
    "plt.show()\n",
    "\n"
   ]
  },
  {
   "cell_type": "code",
   "execution_count": 14,
   "id": "539eaf37",
   "metadata": {},
   "outputs": [],
   "source": [
    "y = data[group] \n",
    "X = data.drop(columns=['number', 'group', 'toxicant', 'time',group,'Casp7','Chek','Gclc','Gstm1','Gstp1','Gstt1','Hmox','Nfe2l2','Nqo1','Ripk','Sod1'])"
   ]
  },
  {
   "cell_type": "code",
   "execution_count": 15,
   "id": "c548e113",
   "metadata": {},
   "outputs": [
    {
     "data": {
      "text/html": [
       "<div>\n",
       "<style scoped>\n",
       "    .dataframe tbody tr th:only-of-type {\n",
       "        vertical-align: middle;\n",
       "    }\n",
       "\n",
       "    .dataframe tbody tr th {\n",
       "        vertical-align: top;\n",
       "    }\n",
       "\n",
       "    .dataframe thead th {\n",
       "        text-align: right;\n",
       "    }\n",
       "</style>\n",
       "<table border=\"1\" class=\"dataframe\">\n",
       "  <thead>\n",
       "    <tr style=\"text-align: right;\">\n",
       "      <th></th>\n",
       "      <th>AST</th>\n",
       "      <th>ALT</th>\n",
       "      <th>LDG</th>\n",
       "      <th>AP</th>\n",
       "      <th>TG</th>\n",
       "      <th>HST</th>\n",
       "      <th>protein</th>\n",
       "      <th>MA</th>\n",
       "    </tr>\n",
       "  </thead>\n",
       "  <tbody>\n",
       "    <tr>\n",
       "      <th>0</th>\n",
       "      <td>126.3</td>\n",
       "      <td>65.6</td>\n",
       "      <td>1254.0</td>\n",
       "      <td>354.3</td>\n",
       "      <td>1.70</td>\n",
       "      <td>2.14</td>\n",
       "      <td>66.5</td>\n",
       "      <td>121.8</td>\n",
       "    </tr>\n",
       "    <tr>\n",
       "      <th>1</th>\n",
       "      <td>176.5</td>\n",
       "      <td>63.2</td>\n",
       "      <td>1973.0</td>\n",
       "      <td>485.0</td>\n",
       "      <td>0.80</td>\n",
       "      <td>2.08</td>\n",
       "      <td>58.7</td>\n",
       "      <td>149.2</td>\n",
       "    </tr>\n",
       "    <tr>\n",
       "      <th>2</th>\n",
       "      <td>175.9</td>\n",
       "      <td>69.8</td>\n",
       "      <td>2474.0</td>\n",
       "      <td>232.1</td>\n",
       "      <td>1.86</td>\n",
       "      <td>2.39</td>\n",
       "      <td>71.1</td>\n",
       "      <td>135.0</td>\n",
       "    </tr>\n",
       "    <tr>\n",
       "      <th>3</th>\n",
       "      <td>148.1</td>\n",
       "      <td>54.7</td>\n",
       "      <td>1438.0</td>\n",
       "      <td>485.0</td>\n",
       "      <td>1.70</td>\n",
       "      <td>2.47</td>\n",
       "      <td>65.6</td>\n",
       "      <td>125.8</td>\n",
       "    </tr>\n",
       "    <tr>\n",
       "      <th>4</th>\n",
       "      <td>191.7</td>\n",
       "      <td>52.7</td>\n",
       "      <td>2339.0</td>\n",
       "      <td>595.4</td>\n",
       "      <td>0.86</td>\n",
       "      <td>3.09</td>\n",
       "      <td>57.5</td>\n",
       "      <td>99.2</td>\n",
       "    </tr>\n",
       "    <tr>\n",
       "      <th>...</th>\n",
       "      <td>...</td>\n",
       "      <td>...</td>\n",
       "      <td>...</td>\n",
       "      <td>...</td>\n",
       "      <td>...</td>\n",
       "      <td>...</td>\n",
       "      <td>...</td>\n",
       "      <td>...</td>\n",
       "    </tr>\n",
       "    <tr>\n",
       "      <th>205</th>\n",
       "      <td>118.4</td>\n",
       "      <td>15.7</td>\n",
       "      <td>712.0</td>\n",
       "      <td>303.1</td>\n",
       "      <td>0.66</td>\n",
       "      <td>3.83</td>\n",
       "      <td>55.1</td>\n",
       "      <td>86.1</td>\n",
       "    </tr>\n",
       "    <tr>\n",
       "      <th>206</th>\n",
       "      <td>157.3</td>\n",
       "      <td>24.5</td>\n",
       "      <td>999.8</td>\n",
       "      <td>415.9</td>\n",
       "      <td>0.29</td>\n",
       "      <td>2.90</td>\n",
       "      <td>54.2</td>\n",
       "      <td>85.7</td>\n",
       "    </tr>\n",
       "    <tr>\n",
       "      <th>207</th>\n",
       "      <td>155.6</td>\n",
       "      <td>27.0</td>\n",
       "      <td>1723.0</td>\n",
       "      <td>347.4</td>\n",
       "      <td>0.58</td>\n",
       "      <td>3.30</td>\n",
       "      <td>60.9</td>\n",
       "      <td>106.7</td>\n",
       "    </tr>\n",
       "    <tr>\n",
       "      <th>208</th>\n",
       "      <td>185.0</td>\n",
       "      <td>19.6</td>\n",
       "      <td>1700.0</td>\n",
       "      <td>274.5</td>\n",
       "      <td>1.30</td>\n",
       "      <td>3.30</td>\n",
       "      <td>55.4</td>\n",
       "      <td>157.0</td>\n",
       "    </tr>\n",
       "    <tr>\n",
       "      <th>209</th>\n",
       "      <td>150.3</td>\n",
       "      <td>23.1</td>\n",
       "      <td>1788.0</td>\n",
       "      <td>229.5</td>\n",
       "      <td>0.79</td>\n",
       "      <td>3.23</td>\n",
       "      <td>53.3</td>\n",
       "      <td>108.4</td>\n",
       "    </tr>\n",
       "  </tbody>\n",
       "</table>\n",
       "<p>210 rows × 8 columns</p>\n",
       "</div>"
      ],
      "text/plain": [
       "       AST   ALT     LDG     AP    TG   HST  protein     MA\n",
       "0    126.3  65.6  1254.0  354.3  1.70  2.14     66.5  121.8\n",
       "1    176.5  63.2  1973.0  485.0  0.80  2.08     58.7  149.2\n",
       "2    175.9  69.8  2474.0  232.1  1.86  2.39     71.1  135.0\n",
       "3    148.1  54.7  1438.0  485.0  1.70  2.47     65.6  125.8\n",
       "4    191.7  52.7  2339.0  595.4  0.86  3.09     57.5   99.2\n",
       "..     ...   ...     ...    ...   ...   ...      ...    ...\n",
       "205  118.4  15.7   712.0  303.1  0.66  3.83     55.1   86.1\n",
       "206  157.3  24.5   999.8  415.9  0.29  2.90     54.2   85.7\n",
       "207  155.6  27.0  1723.0  347.4  0.58  3.30     60.9  106.7\n",
       "208  185.0  19.6  1700.0  274.5  1.30  3.30     55.4  157.0\n",
       "209  150.3  23.1  1788.0  229.5  0.79  3.23     53.3  108.4\n",
       "\n",
       "[210 rows x 8 columns]"
      ]
     },
     "execution_count": 15,
     "metadata": {},
     "output_type": "execute_result"
    }
   ],
   "source": [
    "X"
   ]
  },
  {
   "cell_type": "code",
   "execution_count": 16,
   "id": "2e38445a",
   "metadata": {},
   "outputs": [
    {
     "name": "stdout",
     "output_type": "stream",
     "text": [
      "               Classifier  Accuracy\n",
      "0    KNeighborsClassifier  0.735849\n",
      "0                     SVC  0.811321\n",
      "0  DecisionTreeClassifier  0.886792\n",
      "0  RandomForestClassifier  0.943396\n",
      "0              GaussianNB  0.849057\n",
      "0      LogisticRegression  0.830189\n"
     ]
    },
    {
     "name": "stderr",
     "output_type": "stream",
     "text": [
      "C:\\Users\\MiPro\\AppData\\Local\\Temp\\ipykernel_25176\\3748292191.py:39: FutureWarning: The frame.append method is deprecated and will be removed from pandas in a future version. Use pandas.concat instead.\n",
      "  log = log.append(log_entry)\n",
      "C:\\Users\\MiPro\\AppData\\Local\\Temp\\ipykernel_25176\\3748292191.py:39: FutureWarning: The frame.append method is deprecated and will be removed from pandas in a future version. Use pandas.concat instead.\n",
      "  log = log.append(log_entry)\n",
      "C:\\Users\\MiPro\\AppData\\Local\\Temp\\ipykernel_25176\\3748292191.py:39: FutureWarning: The frame.append method is deprecated and will be removed from pandas in a future version. Use pandas.concat instead.\n",
      "  log = log.append(log_entry)\n",
      "C:\\Users\\MiPro\\AppData\\Local\\Temp\\ipykernel_25176\\3748292191.py:39: FutureWarning: The frame.append method is deprecated and will be removed from pandas in a future version. Use pandas.concat instead.\n",
      "  log = log.append(log_entry)\n",
      "C:\\Users\\MiPro\\AppData\\Local\\Temp\\ipykernel_25176\\3748292191.py:39: FutureWarning: The frame.append method is deprecated and will be removed from pandas in a future version. Use pandas.concat instead.\n",
      "  log = log.append(log_entry)\n",
      "C:\\Users\\MiPro\\AppData\\Local\\Temp\\ipykernel_25176\\3748292191.py:39: FutureWarning: The frame.append method is deprecated and will be removed from pandas in a future version. Use pandas.concat instead.\n",
      "  log = log.append(log_entry)\n"
     ]
    },
    {
     "data": {
      "image/png": "[encoded data removed]",
      "text/plain": [
       "<Figure size 432x288 with 1 Axes>"
      ]
     },
     "metadata": {
      "needs_background": "light"
     },
     "output_type": "display_data"
    }
   ],
   "source": [
    "classifiers = [\n",
    "    KNeighborsClassifier(5),\n",
    "    SVC(probability=True, kernel='rbf'),\n",
    "    DecisionTreeClassifier(),\n",
    "    RandomForestClassifier(),\n",
    "    GaussianNB(),\n",
    "    LogisticRegression(# метод для поиска решения. Для небольших датасетов лучше подходит liblinear, sag и saga -- для больших.\n",
    "    # Варианты: newton-cg, lbfgs, liblinear, sag, saga\n",
    "    solver='liblinear',\n",
    "    # норма для регуляризации. Варианты: l2, l1.\n",
    "    penalty='l2',\n",
    "    # параметр регуляризации. Чем меньше, тем сильнее регуляризация. Положительный.\n",
    "    C=1,\n",
    "    # параметр для остановки поиска решения.\n",
    "    tol=1e-4,\n",
    "    # Так как распознается 2 класса.\n",
    "    multi_class='ovr'),\n",
    "]\n",
    "\n",
    "log_cols = [\"Classifier\", \"Accuracy\"]\n",
    "log = pd.DataFrame(columns=log_cols)\n",
    "\n",
    "X_train, X_test, y_train, y_test = train_test_split(X, y, test_size = 0.25, random_state = 0)\n",
    "acc_dict = {}\n",
    "\n",
    "for clf in classifiers:\n",
    "    name = clf.__class__.__name__\n",
    "    clf.fit(X_train, y_train)\n",
    "    train_predictions = clf.predict(X_test)\n",
    "    acc = accuracy_score(y_test, train_predictions)\n",
    "    if name in acc_dict:\n",
    "        acc_dict[name] += acc\n",
    "    else:\n",
    "        acc_dict[name] = acc\n",
    "\n",
    "for clf in acc_dict:\n",
    "    acc_dict[clf] = acc_dict[clf] \n",
    "    log_entry = pd.DataFrame([[clf, acc_dict[clf]]], columns=log_cols)\n",
    "    log = log.append(log_entry)\n",
    "\n",
    "plt.xlabel('Accuracy')\n",
    "plt.title('Classifier Accuracy')\n",
    "\n",
    "sns.set_color_codes(\"muted\")\n",
    "sns.barplot(x='Accuracy', y='Classifier', data=log.sort_values(by='Accuracy'), color=\"b\")\n",
    "\n",
    "print(log)"
   ]
  },
  {
   "cell_type": "code",
   "execution_count": 17,
   "id": "4cd955a5",
   "metadata": {},
   "outputs": [
    {
     "name": "stdout",
     "output_type": "stream",
     "text": [
      "KNeighborsClassifier\n"
     ]
    },
    {
     "data": {
      "image/png": "[encoded data removed]",
      "text/plain": [
       "<Figure size 432x288 with 1 Axes>"
      ]
     },
     "metadata": {
      "needs_background": "light"
     },
     "output_type": "display_data"
    }
   ],
   "source": [
    "print('KNeighborsClassifier')\n",
    "\n",
    "model = KNeighborsClassifier(5)\n",
    "\n",
    "model.fit(X, y)\n",
    "preds = model.predict(X)\n",
    "from sklearn import metrics\n",
    "conf_mat = metrics.confusion_matrix(y, preds)\n",
    "conf_mat = pd.DataFrame(conf_mat, index=model.classes_, columns=model.classes_)\n",
    "conf_mat\n",
    "pred_prob = model.predict_proba(X)\n",
    "preds = pred_prob[:,1]\n",
    "fpr, tpr, threshold = metrics.roc_curve(y, preds)\n",
    "roc_auc = metrics.auc(fpr, tpr)\n",
    "\n",
    "\n",
    "# method I: plt\n",
    "import matplotlib.pyplot as plt\n",
    "plt.title('Receiver Operating Characteristic')\n",
    "plt.plot(fpr, tpr, 'b', label = 'AUC = %0.2f' % roc_auc)\n",
    "plt.legend(loc = 'lower right')\n",
    "plt.plot([0, 1], [0, 1],'r--')\n",
    "plt.xlim([0, 1])\n",
    "plt.ylim([0, 1])\n",
    "plt.ylabel('True Positive Rate')\n",
    "plt.xlabel('False Positive Rate')\n",
    "plt.show()\n",
    "\n"
   ]
  },
  {
   "cell_type": "code",
   "execution_count": 18,
   "id": "977ea11b",
   "metadata": {},
   "outputs": [
    {
     "name": "stdout",
     "output_type": "stream",
     "text": [
      "SVC\n"
     ]
    },
    {
     "data": {
      "image/png": "[encoded data removed]",
      "text/plain": [
       "<Figure size 432x288 with 1 Axes>"
      ]
     },
     "metadata": {
      "needs_background": "light"
     },
     "output_type": "display_data"
    }
   ],
   "source": [
    "print('SVC')\n",
    "\n",
    "model = SVC(probability=True, kernel='rbf')\n",
    "\n",
    "model.fit(X, y)\n",
    "preds = model.predict(X)\n",
    "from sklearn import metrics\n",
    "conf_mat = metrics.confusion_matrix(y, preds)\n",
    "conf_mat = pd.DataFrame(conf_mat, index=model.classes_, columns=model.classes_)\n",
    "conf_mat\n",
    "pred_prob = model.predict_proba(X)\n",
    "preds = pred_prob[:,1]\n",
    "fpr, tpr, threshold = metrics.roc_curve(y, preds)\n",
    "roc_auc = metrics.auc(fpr, tpr)\n",
    "\n",
    "\n",
    "# method I: plt\n",
    "import matplotlib.pyplot as plt\n",
    "plt.title('Receiver Operating Characteristic')\n",
    "plt.plot(fpr, tpr, 'b', label = 'AUC = %0.2f' % roc_auc)\n",
    "plt.legend(loc = 'lower right')\n",
    "plt.plot([0, 1], [0, 1],'r--')\n",
    "plt.xlim([0, 1])\n",
    "plt.ylim([0, 1])\n",
    "plt.ylabel('True Positive Rate')\n",
    "plt.xlabel('False Positive Rate')\n",
    "plt.show()\n",
    "\n"
   ]
  },
  {
   "cell_type": "code",
   "execution_count": 19,
   "id": "4a78d51c",
   "metadata": {},
   "outputs": [
    {
     "name": "stdout",
     "output_type": "stream",
     "text": [
      "DecisionTreeClassifier\n"
     ]
    },
    {
     "data": {
      "image/png": "[encoded data removed]",
      "text/plain": [
       "<Figure size 432x288 with 1 Axes>"
      ]
     },
     "metadata": {
      "needs_background": "light"
     },
     "output_type": "display_data"
    }
   ],
   "source": [
    "print('DecisionTreeClassifier')\n",
    "    \n",
    "model = DecisionTreeClassifier()\n",
    "\n",
    "model.fit(X, y)\n",
    "preds = model.predict(X)\n",
    "from sklearn import metrics\n",
    "conf_mat = metrics.confusion_matrix(y, preds)\n",
    "conf_mat = pd.DataFrame(conf_mat, index=model.classes_, columns=model.classes_)\n",
    "conf_mat\n",
    "pred_prob = model.predict_proba(X)\n",
    "preds = pred_prob[:,1]\n",
    "fpr, tpr, threshold = metrics.roc_curve(y, preds)\n",
    "roc_auc = metrics.auc(fpr, tpr)\n",
    "\n",
    "\n",
    "# method I: plt\n",
    "import matplotlib.pyplot as plt\n",
    "plt.title('Receiver Operating Characteristic')\n",
    "plt.plot(fpr, tpr, 'b', label = 'AUC = %0.2f' % roc_auc)\n",
    "plt.legend(loc = 'lower right')\n",
    "plt.plot([0, 1], [0, 1],'r--')\n",
    "plt.xlim([0, 1])\n",
    "plt.ylim([0, 1])\n",
    "plt.ylabel('True Positive Rate')\n",
    "plt.xlabel('False Positive Rate')\n",
    "plt.show()\n",
    "\n"
   ]
  },
  {
   "cell_type": "code",
   "execution_count": 20,
   "id": "7032159e",
   "metadata": {},
   "outputs": [
    {
     "name": "stdout",
     "output_type": "stream",
     "text": [
      "RandomForestClassifier\n"
     ]
    },
    {
     "data": {
      "image/png": "[encoded data removed]",
      "text/plain": [
       "<Figure size 432x288 with 1 Axes>"
      ]
     },
     "metadata": {
      "needs_background": "light"
     },
     "output_type": "display_data"
    }
   ],
   "source": [
    "print('RandomForestClassifier')\n",
    "model = RandomForestClassifier()\n",
    "\n",
    "model.fit(X, y)\n",
    "preds = model.predict(X)\n",
    "from sklearn import metrics\n",
    "conf_mat = metrics.confusion_matrix(y, preds)\n",
    "conf_mat = pd.DataFrame(conf_mat, index=model.classes_, columns=model.classes_)\n",
    "conf_mat\n",
    "pred_prob = model.predict_proba(X)\n",
    "preds = pred_prob[:,1]\n",
    "fpr, tpr, threshold = metrics.roc_curve(y, preds)\n",
    "roc_auc = metrics.auc(fpr, tpr)\n",
    "\n",
    "\n",
    "# method I: plt\n",
    "import matplotlib.pyplot as plt\n",
    "plt.title('Receiver Operating Characteristic')\n",
    "plt.plot(fpr, tpr, 'b', label = 'AUC = %0.2f' % roc_auc)\n",
    "plt.legend(loc = 'lower right')\n",
    "plt.plot([0, 1], [0, 1],'r--')\n",
    "plt.xlim([0, 1])\n",
    "plt.ylim([0, 1])\n",
    "plt.ylabel('True Positive Rate')\n",
    "plt.xlabel('False Positive Rate')\n",
    "plt.show()\n",
    "\n"
   ]
  },
  {
   "cell_type": "code",
   "execution_count": 21,
   "id": "b1369742",
   "metadata": {},
   "outputs": [
    {
     "name": "stdout",
     "output_type": "stream",
     "text": [
      "GaussianNB\n"
     ]
    },
    {
     "data": {
      "image/png": "[encoded data removed]",
      "text/plain": [
       "<Figure size 432x288 with 1 Axes>"
      ]
     },
     "metadata": {
      "needs_background": "light"
     },
     "output_type": "display_data"
    }
   ],
   "source": [
    "print('GaussianNB')\n",
    "model = GaussianNB()\n",
    "\n",
    "model.fit(X, y)\n",
    "preds = model.predict(X)\n",
    "from sklearn import metrics\n",
    "conf_mat = metrics.confusion_matrix(y, preds)\n",
    "conf_mat = pd.DataFrame(conf_mat, index=model.classes_, columns=model.classes_)\n",
    "conf_mat\n",
    "pred_prob = model.predict_proba(X)\n",
    "preds = pred_prob[:,1]\n",
    "fpr, tpr, threshold = metrics.roc_curve(y, preds)\n",
    "roc_auc = metrics.auc(fpr, tpr)\n",
    "\n",
    "\n",
    "# method I: plt\n",
    "import matplotlib.pyplot as plt\n",
    "plt.title('Receiver Operating Characteristic')\n",
    "plt.plot(fpr, tpr, 'b', label = 'AUC = %0.2f' % roc_auc)\n",
    "plt.legend(loc = 'lower right')\n",
    "plt.plot([0, 1], [0, 1],'r--')\n",
    "plt.xlim([0, 1])\n",
    "plt.ylim([0, 1])\n",
    "plt.ylabel('True Positive Rate')\n",
    "plt.xlabel('False Positive Rate')\n",
    "plt.show()\n",
    "\n"
   ]
  },
  {
   "cell_type": "code",
   "execution_count": null,
   "id": "e72dd50a",
   "metadata": {},
   "outputs": [],
   "source": []
  },
  {
   "cell_type": "code",
   "execution_count": null,
   "id": "83f05737",
   "metadata": {},
   "outputs": [],
   "source": []
  },
  {
   "cell_type": "code",
   "execution_count": null,
   "id": "d98b69f7",
   "metadata": {},
   "outputs": [],
   "source": []
  }
 ],
 "metadata": {
  "kernelspec": {
   "display_name": "Python 3 (ipykernel)",
   "language": "python",
   "name": "python3"
  },
  "language_info": {
   "codemirror_mode": {
    "name": "ipython",
    "version": 3
   },
   "file_extension": ".py",
   "mimetype": "text/x-python",
   "name": "python",
   "nbconvert_exporter": "python",
   "pygments_lexer": "ipython3",
   "version": "3.9.12"
  }
 },
 "nbformat": 4,
 "nbformat_minor": 5
}
