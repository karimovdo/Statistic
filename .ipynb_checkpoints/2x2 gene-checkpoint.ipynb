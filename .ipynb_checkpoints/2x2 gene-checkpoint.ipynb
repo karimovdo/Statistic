{
 "cells": [
  {
   "cell_type": "code",
   "execution_count": 1,
   "id": "cb7ee2ef",
   "metadata": {},
   "outputs": [],
   "source": [
    "import numpy as np\n",
    "import pandas as pd\n",
    "import matplotlib.pyplot as plt\n",
    "import scipy.stats as st\n",
    "import seaborn as sns\n",
    "import math\n",
    "from statsmodels.stats.multicomp import pairwise_tukeyhsd\n",
    "import random\n",
    "from scipy.stats import norm\n",
    "from tqdm.auto import tqdm"
   ]
  },
  {
   "cell_type": "code",
   "execution_count": 2,
   "id": "e3216470",
   "metadata": {},
   "outputs": [],
   "source": [
    "data = pd.read_csv('ba2.csv')"
   ]
  },
  {
   "cell_type": "code",
   "execution_count": 3,
   "id": "1f88c55f",
   "metadata": {},
   "outputs": [],
   "source": [
    "# for i in data.columns:\n",
    "#     if len(data[i].unique()) > 4:\n",
    "#         print(f'\"{i}\",')"
   ]
  },
  {
   "cell_type": "code",
   "execution_count": 4,
   "id": "e3108337",
   "metadata": {},
   "outputs": [],
   "source": [
    "TARGET = 'Тяжесть'"
   ]
  },
  {
   "cell_type": "code",
   "execution_count": 5,
   "id": "bd373f80",
   "metadata": {},
   "outputs": [
    {
     "data": {
      "text/plain": [
       "array([3, 2], dtype=int64)"
      ]
     },
     "execution_count": 5,
     "metadata": {},
     "output_type": "execute_result"
    }
   ],
   "source": [
    "data[TARGET].unique()"
   ]
  },
  {
   "cell_type": "code",
   "execution_count": 6,
   "id": "4769d15e",
   "metadata": {},
   "outputs": [],
   "source": [
    "name_group_all = {\n",
    "    'Тяжесть' : ['БАТТ', 'БАСТ'],\n",
    "    'SNP_rs896' : ['TT', 'TC', 'CC']\n",
    "}"
   ]
  },
  {
   "cell_type": "code",
   "execution_count": 7,
   "id": "fc3b560a",
   "metadata": {},
   "outputs": [
    {
     "data": {
      "text/plain": [
       "{'Тяжесть': ['БАТТ', 'БАСТ'], 'SNP_rs896': ['TT', 'TC', 'CC']}"
      ]
     },
     "execution_count": 7,
     "metadata": {},
     "output_type": "execute_result"
    }
   ],
   "source": [
    "name_group_all"
   ]
  },
  {
   "cell_type": "code",
   "execution_count": 8,
   "id": "ca33b303",
   "metadata": {},
   "outputs": [
    {
     "data": {
      "text/plain": [
       "['БАТТ', 'БАСТ']"
      ]
     },
     "execution_count": 8,
     "metadata": {},
     "output_type": "execute_result"
    }
   ],
   "source": [
    "name_group_all[TARGET]"
   ]
  },
  {
   "cell_type": "code",
   "execution_count": 9,
   "id": "440a2e02",
   "metadata": {},
   "outputs": [],
   "source": [
    "#обозначение групп\n",
    "\n",
    "name_group = name_group_all[TARGET]\n",
    "#spisok_group\n",
    "data = data.dropna(subset=[TARGET])\n",
    "data = data.astype({TARGET: np.int32})\n",
    "#обозначение групп"
   ]
  },
  {
   "cell_type": "code",
   "execution_count": 10,
   "id": "ce44a3d3",
   "metadata": {},
   "outputs": [
    {
     "data": {
      "text/plain": [
       "array([3, 2])"
      ]
     },
     "execution_count": 10,
     "metadata": {},
     "output_type": "execute_result"
    }
   ],
   "source": [
    "data[TARGET].unique()"
   ]
  },
  {
   "cell_type": "code",
   "execution_count": 11,
   "id": "ea8b475a",
   "metadata": {},
   "outputs": [],
   "source": [
    "#data['Тяжесть'].sum()"
   ]
  },
  {
   "cell_type": "code",
   "execution_count": 12,
   "id": "f849bfe4",
   "metadata": {},
   "outputs": [],
   "source": [
    "#for i in range(len(data['Тяжесть'])):\n",
    "#    if data.loc[i,'Тяжесть'] == 2:\n",
    "#        data.loc[i,'Тяжесть'] = 1\n",
    "#    elif data.loc[i,'Тяжесть'] == 3:\n",
    "#        data.loc[i,'Тяжесть'] = 0\n",
    "        "
   ]
  },
  {
   "cell_type": "code",
   "execution_count": 13,
   "id": "9dd8fbfb",
   "metadata": {},
   "outputs": [],
   "source": [
    "#необходимо обозначить какие переменные к какой группе относятся\n",
    "scale = [\n",
    "'Приступов_удушья_в_день',\n",
    "'Обострений_в_год',\n",
    "'Длительность_БА_на_момент_исслед',\n",
    "'САД',\n",
    "'ДАД',\n",
    "'ЧД',\n",
    "'ЧСС',\n",
    "'Пульс',\n",
    "'Сатурация_при_поступлении',\n",
    "'Сатурация_при_выписке',\n",
    "'Лейкоциты_при_поступлении',\n",
    "'Эритроциты_при_постпулении',\n",
    "'Гемоглобин_при_поступлении',\n",
    "'Тромбоциты_при_поступлении',\n",
    "'Сегментоядерные_при_поступлении',\n",
    "'Эозинофилы_при_поступлении',\n",
    "'Моноциты_при_поступлении',\n",
    "'Лимфоциты_при_поступлении',\n",
    "'СОЭ_при_поступлении',\n",
    "'Лейкоциты_при_выписке',\n",
    "'Эритроциты_при_выписке',\n",
    "'Гемоглобин_при_выписке',\n",
    "'Тромбоциты_при_выписке',\n",
    "'Сегментоядерные_при_выписке',\n",
    "'Лимфоциты_при_выписке',\n",
    "'СОЭ_при_выписке',\n",
    "'БАК_посев_мокроты',\n",
    "'IgE_общий',\n",
    "'FeF25_при_поступлении',\n",
    "'FeF50_при_поступлении',\n",
    "'FeF75_при_поступлении',\n",
    "'FeF25_при_выписке',\n",
    "'FeF50_при_выписке',\n",
    "'FeF75_при_выписке',\n",
    "'ЧСС_ЭКГ',\n",
    "'Общий_билирубин',\n",
    "'Глюкоза_крови',\n",
    "'Общий_белок',\n",
    "'Холестерин',\n",
    "'Возраст2',\n",
    "'Рост',\n",
    "'Вес',\n",
    "'обострений_за_последний_год',\n",
    "'ACQ_контроль_симптомов_БА',\n",
    "'Самочувствие',\n",
    "'Активность',\n",
    "'Настроение',\n",
    "'Экстраверсия_интроверсия',\n",
    "'Ригидность_пластичность',\n",
    "'Эмоционвозбудим_уравновешенность',\n",
    "'Быстрота_реакц_медлительность',\n",
    "'Активность_пасивность',\n",
    "'Искренность',\n",
    "'Реактивная_тревожность',\n",
    "'Ситуатвиная_тревожность',\n",
    "'Физическая_активность_PF',\n",
    "'Физичпроблемы_в_жизнедеят_RP',\n",
    "'Интенсивность_боли_BP',\n",
    "'Общее_здоровье_GH',\n",
    "'Жизненная_актвиность_VT',\n",
    "'Социальная_активность_SF',\n",
    "'Эмоционал_проблемы_в_жизнедеят_RE',\n",
    "'Психическое_здоровье_MH',\n",
    "'Физич_компонент_здор_PH',\n",
    "'Психич_компонент_здор_MH',\n",
    "'Наличие_вегет_дисфун',\n",
    "'Наличие_вегет_дисфун2',\n",
    "'Апатия1',\n",
    "'Апатия2',\n",
    "'Уровень_VIP',\n",
    "'Уровень_SP',\n",
    "'ЖЕЛ_при_поступлении',\n",
    "'ОФВ1_при_поступлении',\n",
    "'Индекс_Тиффно_при_поступлении',\n",
    "'ЖЕЛ_при_выписке',\n",
    "'ОФВ1_при_выписке',\n",
    "'Индекс_Тиффно_при_выписке',\n",
    "'ИМТ',\n",
    "'VAR_mc',\n",
    "'aVNN_mc',\n",
    "'SDNN_mc',\n",
    "'pNN50',\n",
    "'rMSSD',\n",
    "'SDNNidx_mc',\n",
    "'SDANN_mc',\n",
    "'VLF',\n",
    "'LF_Симпатика',\n",
    "'HF_Парасимпатика',\n",
    "'nHF',\n",
    "'CBBP',\n",
    "'LF_HF',\n",
    "]\n",
    "categorial = [\n",
    "#  \"Сезон_обострения_БА\",\n",
    "#  \"Худшее_время_суток_по_БА\",\n",
    "#  \"Ухудшение_состояния_в_отпуске\",\n",
    "#  \"Заболевания_ЖКТ\",\n",
    "\n",
    "# \"Терапия_БА\",\n",
    "# \"Форма\",\n",
    "# \"Тяжесть\",\n",
    "# \"Оценка_соц_бытовых_условий\",\n",
    "# \"ДН\",\n",
    "# \"Эмфизема\",\n",
    "# \"ХЛС\",\n",
    "# \"Пневмосклероз\",\n",
    "# \"Гормонозависимость\",\n",
    "# \"Проживание\",\n",
    "# \"Профессиональное_заболевание\",\n",
    "# \"ГБ\",\n",
    "# \"ИБС\",\n",
    "# \"ГЭРБ\",\n",
    "# \"Наличие_суносовой_аритмии\",\n",
    "# \"Наличие_гипертрофии_ЛЖ\",\n",
    "# \"Эозинофилы_в_мокроте\",\n",
    "# \"Пол\",\n",
    "# \"Наличие_работы\",\n",
    "# \"Работа_в_ночную_смену\",\n",
    "# \"Профессиональый_контакт\",\n",
    "# \"Образование\",\n",
    "# \"Наличие_аллергической_реакции\",\n",
    "# \"Аллерг_реакция_у_родственников\",\n",
    "# \"Наличие_заболевания_ЖКТ\",\n",
    "# \"Наличие_заболевания_ЛОРорганов\",\n",
    "# \"Наличие_грибковых_заболеваний\",\n",
    "# \"Ухудшение_состояния_при_физнагруз\",\n",
    "# \"Ухудшение_состояния_во_время_еды\",\n",
    "# \"Влияние_менструальногоцикла_на_БА\",\n",
    "# \"Наличие_ОтёкаКвинке_в_анамнезе\",\n",
    "# \"Наличие_стресса\",\n",
    "# \"Наличие_других_заболеваний\",\n",
    " \"SNP_rs896\",\n",
    "#  \"SNP_rs2072100\",\n",
    "# \"SNP_rs3771829\",\n",
    "#  \"SNP_rs3823082\",\n",
    "#  \"Фенотип\",\n",
    "# \"Коридор\",\n",
    "#  \"Симпатика\",\n",
    "]\n"
   ]
  },
  {
   "cell_type": "code",
   "execution_count": 14,
   "id": "114d6f72",
   "metadata": {},
   "outputs": [],
   "source": [
    "spisok_group = categorial"
   ]
  },
  {
   "cell_type": "code",
   "execution_count": 131,
   "id": "08008cb9",
   "metadata": {},
   "outputs": [],
   "source": [
    "def plot_bar(data, data_vr, i , name_group_all):\n",
    "    plt.figure(figsize=(10,6))\n",
    "    # ширина полос\n",
    "    barWidth = 0.3\n",
    "\n",
    "    # высота 1 ряда\n",
    "    bars1 = [data_vr[j,1] for j in range(len(data_vr[:,0])-1)]\n",
    "    # высота 2 ряда\n",
    "    bars2 = [data_vr[j,3] for j in range(len(data_vr[:,0])-1)]\n",
    "    bars3 = bars1 + bars2\n",
    "    # ошибки 1\n",
    "    yer1 = [0.5, 0.4, 0.5]\n",
    "    # ошибки 2\n",
    "    yer2 = [1, 0.7, 1]\n",
    "    # The x position of bars\n",
    "    r1 = np.arange(len(bars1))\n",
    "    r2 = [x + barWidth for x in r1]\n",
    "\n",
    "    try:\n",
    "        name = name_group_all[TARGET]\n",
    "    except: \n",
    "        name = data[TARGET].unique()\n",
    "\n",
    "    # Create blue bars\n",
    "    ax = plt.bar(r1, bars1, width = barWidth, color = '#48507E', edgecolor = 'black', label=name[0])\n",
    "\n",
    "    # Create cyan bars\n",
    "    ax = plt.bar(r2, bars2, width = barWidth, color = '#A6CFD6', edgecolor = 'black', label=name[1])\n",
    "\n",
    "    # general layout\n",
    "    try:\n",
    "        name = []\n",
    "        name2 = name_group_all[i]\n",
    "        for j in range(len(name2)):\n",
    "            name.append(name2[j])\n",
    "        \n",
    "        name.append(name2[0][0])\n",
    "        name.append(name2[0][1])\n",
    "    \n",
    "    except: \n",
    "        name = sorted(data[i].unique())\n",
    "        name.append(1)\n",
    "        name.append(2)\n",
    "\n",
    "    print(name[0][0])   \n",
    "    # Create labels\n",
    "    # высота 1 ряда\n",
    "    pr1 = [data_vr[j,1] for j in range(len(data_vr[:,0])-1)]\n",
    "    pr2 = [data_vr[j,3] for j in range(len(data_vr[:,0])-1)]\n",
    "    pr3 = pr1 + pr2\n",
    "    label = [f'{pr3[j]:.1f}%' for j in range(len(pr3))]\n",
    "\n",
    "    if len(pr3) == 4:\n",
    "        r3 = [-0.1,0.9,0.2,1.2]\n",
    "    elif len(pr3) == 6:\n",
    "        r3 = [-0.1,0.9,1.9,0.2,1.2, 2.2]\n",
    "    elif len(pr3) == 8:\n",
    "        r3 = [-0.1,0.9,1.9,2.9, 0.2,1.2, 2.2,3.2]\n",
    "    elif len(pr3) == 10:\n",
    "        r3 = [-0.1,0.9,1.9,2.9, 3.9, 0.2,1.2, 2.2,3.2, 4.2]\n",
    "    elif len(pr3) == 12:\n",
    "        r3 = [-0.1,0.9,1.9,2.9, 3.9,4.9, 0.2,1.2, 2.2,3.2, 4.2,5.2]\n",
    "    elif len(pr3) == 14:\n",
    "        r3 = [-0.1,0.9,1.9,2.9, 3.9,4.9,5.9, 0.2,1.2, 2.2,3.2, 4.2,5.2,6.2]\n",
    "    elif len(pr3) == 16:\n",
    "        r3 = [-0.1,0.9,1.9,2.9, 3.9,4.9,5.9,6.9, 0.2,1.2, 2.2,3.2, 4.2,5.2,6.2,7.2]\n",
    "    # Text on the top of each bar\n",
    "    for i in range(0,5):\n",
    "        plt.text(x = r3[i]-0.2 , y = bars3[i]+0.35, s = label[i], size = 14)\n",
    "    for i in range(5,10):\n",
    "        plt.text(x = r3[i] , y = bars3[i]+0.35, s = label[i], size = 14)\n",
    "    \n",
    "    plt.xticks([r + barWidth - 0.15 for r in range(len(bars1))], name, size = 14)\n",
    "    plt.yticks(size = 12)\n",
    "    plt.ylabel('Частота (%)', size = 14)\n",
    "    plt.legend(fontsize = 12)\n",
    "    plt.subplots_adjust(bottom= 0.2, top = 1)\n",
    "    # Show graphic\n",
    "    plt.show()"
   ]
  },
  {
   "cell_type": "code",
   "execution_count": 132,
   "id": "d6471473",
   "metadata": {},
   "outputs": [],
   "source": [
    "def test_fishera(data, i , name_group_all):\n",
    "    data = data.dropna(subset=[i])\n",
    "    data = data.astype({i: np.int32})\n",
    "    n_ind = len(data[i].unique())+1\n",
    "    data_vr = np.zeros((n_ind+2, 12))\n",
    "    col_ch = 0\n",
    "    for col in data[TARGET].unique():\n",
    "        vsego = 0\n",
    "        ind_ch = 0\n",
    "        for ind in sorted(data[i].unique()):\n",
    "            data_vr[ind_ch, col_ch] = data[(data[i] == ind) & (data[TARGET] == col)][TARGET].count()\n",
    "            vsego += data[(data[i] == ind) & (data[TARGET] == col)][TARGET].count()\n",
    "            ind_ch += 1\n",
    "        data_vr[len(data[i].unique()),col_ch] = vsego\n",
    "        col_ch += 1\n",
    "    data_vr[n_ind-1,2] = data_vr[n_ind-1,1]\n",
    "    data_fisher = np.zeros((2,2))   \n",
    "    for j in range(n_ind-1):\n",
    "        data_fisher[0,0] = data_vr[j,0]\n",
    "        data_fisher[0,1] = data_vr[j,1]\n",
    "        data_fisher[1,0] = data_vr[n_ind-1,0] - data_vr[j,0]\n",
    "        data_fisher[1,1] = data_vr[n_ind-1,1] - data_vr[j,1]\n",
    "        \n",
    "        data_vr[j,2] = data_fisher[0,1]\n",
    "        #проценты\n",
    "        data_vr[j,1] = round(data_fisher[0,0] / data_vr[n_ind-1,0] * 100, 2)\n",
    "        data_vr[j,3] = round(data_fisher[0,1] / data_vr[n_ind-1,2] * 100, 2)\n",
    "        #хи квадрат\n",
    "        hi2 = st.chi2_contingency(data_fisher)\n",
    "        data_vr[j,4] = round(hi2[0], 2)\n",
    "        data_vr[j,5] = round(hi2[1], 3)\n",
    "        #Фишер\n",
    "        _, pfisher = st.fisher_exact(data_fisher)\n",
    "        data_vr[j,6] = round(pfisher, 2)\n",
    "        \n",
    "        #Фишера-Бошло\n",
    "        \n",
    "        fisher_boschloo = st.boschloo_exact(data_fisher)\n",
    "        \n",
    "        data_vr[j,7] = round(fisher_boschloo.statistic, 2)\n",
    "        data_vr[j,8] = round(fisher_boschloo.pvalue, 7)\n",
    "        \n",
    "        data_vr[j,9] = round((data_vr[j,0] / (data_vr[n_ind-1,0] - data_vr[j,0])) /\n",
    "                             (data_vr[j,1] / (data_vr[n_ind-1,1] - data_vr[j,1])),2)\n",
    "\n",
    "        data_vr[j,10] = round(math.exp(math.log(data_vr[j,6]+0.00001) \n",
    "                                      - 1.96*math.sqrt(1/data_fisher[0,0]+1/data_fisher[0,1]+1/data_fisher[1,0]+1/data_fisher[1,1])),2)\n",
    "        data_vr[j,11] = round(math.exp(math.log(data_vr[j,6]+0.00001)\n",
    "                                               +1.96*math.sqrt(1/data_fisher[0,0]+1/data_fisher[0,1]+1/data_fisher[1,0]+1/data_fisher[1,1])),2)\n",
    "\n",
    "    data_vr[n_ind-1,0] = data_vr [0,0] * 2 + data_vr [1,0] \n",
    "    data_vr[n_ind-1,2] = data_vr [0,2] * 2 + data_vr [1,2]  \n",
    "    if n_ind == 4:\n",
    "        data_vr[n_ind,0] = data_vr [2,0] * 2 + data_vr [1,0] \n",
    "        data_vr[n_ind,2] = data_vr [2,2] * 2 + data_vr [1,2]\n",
    "    elif n_ind == 3:\n",
    "        data_vr[n_ind,0] = data_vr [1,0] \n",
    "        data_vr[n_ind,2] = data_vr [1,2]\n",
    "    \n",
    "    data_vr[n_ind-1,1] = data_vr[n_ind-1,0] / (data_vr[n_ind-1,0]+data_vr[n_ind,0]) * 100\n",
    "    data_vr[n_ind,1] = data_vr[n_ind,0] / (data_vr[n_ind-1,0]+data_vr[n_ind,0]) * 100\n",
    "    data_vr[n_ind-1,3] = data_vr[n_ind-1,2] / (data_vr[n_ind-1,2]+data_vr[n_ind,2]) * 100\n",
    "    data_vr[n_ind,3] = data_vr[n_ind,2] / (data_vr[n_ind-1,2]+data_vr[n_ind,2]) * 100\n",
    "    data_vr[n_ind+1,0] = (data_vr[n_ind-1,0]+data_vr[n_ind,0])\n",
    "    data_vr[n_ind+1,1] = (data_vr[n_ind-1,1]+data_vr[n_ind,1])\n",
    "    data_vr[n_ind+1,2] = (data_vr[n_ind-1,2]+data_vr[n_ind,2])\n",
    "    data_vr[n_ind+1,3] = (data_vr[n_ind-1,3]+data_vr[n_ind,3])\n",
    "#    data_vr[n_ind+1,0] = data_vr [0,0] * 2 + data_vr [1,0] \n",
    "#    data_vr[n_ind+1,2] = data_vr [0,2] * 2 + data_vr [1,2]  \n",
    "        \n",
    "    \n",
    "    \n",
    "    display(data_vr)\n",
    "    \n",
    "#     data_vr[n_ind-1,1] = 100\n",
    "#     data_vr[n_ind-1,3] = 100\n",
    "#     cl = []\n",
    "\n",
    "#     for j in range(n_ind):\n",
    "#         cl.append(f'{data_vr[j,10]} - {data_vr[j,11]}')\n",
    "\n",
    "#     try: name_g = name_group_all[TARGET]    \n",
    "#     except: name_g = data[TARGET].unique()\n",
    "\n",
    "#     df = {f'{name_g[0]} (абс.)': [int(data_vr[j,0]) for j in range(n_ind)], \n",
    "#           f'{name_g[0]} (%)': [data_vr[j,1] for j in range(n_ind)],\n",
    "#           f'{name_g[1]} (абс.)' : [int(data_vr[j,2]) for j in range(n_ind)], \n",
    "#           f'{name_g[1]} (%)': [data_vr[j,3] for j in range(n_ind)],\n",
    "#           'χ2': [data_vr[j,4] for j in range(n_ind)],\n",
    "#           'p (χ2)': [data_vr[j,5] for j in range(n_ind)],\n",
    "#           'p (fishe)': [data_vr[j,6] for j in range(n_ind)],\n",
    "#           'FB': [data_vr[j,7] for j in range(n_ind)],\n",
    "#           'p (boschloo)': [data_vr[j,8] for j in range(n_ind)],\n",
    "#           'OR': [data_vr[j,9] for j in range(n_ind)],\n",
    "#           'CI - 95%': [cl[j] for j in range(n_ind)],\n",
    "\n",
    "#          } \n",
    "\n",
    "#     df = pd.DataFrame(df)\n",
    "\n",
    "#     df.loc[n_ind-1, 'χ2' : 'CI - 95%'] = ''\n",
    "   \n",
    "#     try:\n",
    "#         name = []\n",
    "#         name2 = name_group_all[i]\n",
    "#         for j in range(len(name2)):\n",
    "#             name.append(name2[j])\n",
    "#         name.append('Всего:')\n",
    "#         df.index = name\n",
    "#     except: \n",
    "#         name = sorted(data[i].unique())\n",
    "#         name.append('Всего:')\n",
    "#         df.index = name\n",
    "        \n",
    "    plot_bar(data, data_vr, i , name_group_all)\n",
    "#     display(df) \n",
    "    return(data_vr)"
   ]
  },
  {
   "cell_type": "code",
   "execution_count": 133,
   "id": "5cc9e838",
   "metadata": {
    "scrolled": false
   },
   "outputs": [
    {
     "name": "stdout",
     "output_type": "stream",
     "text": [
      "SNP_rs896\n"
     ]
    },
    {
     "data": {
      "text/plain": [
       "array([[ 1.000000e+01,  2.083000e+01,  1.600000e+01,  2.857000e+01,\n",
       "         4.600000e-01,  4.960000e-01,  5.000000e-01,  2.500000e-01,\n",
       "         3.929800e-01,  4.400000e-01,  2.000000e-01,  1.240000e+00],\n",
       "       [ 2.800000e+01,  5.833000e+01,  2.400000e+01,  4.286000e+01,\n",
       "         1.900000e+00,  1.690000e-01,  1.700000e-01,  8.000000e-02,\n",
       "         1.247249e-01, -6.000000e-02,  8.000000e-02,  3.700000e-01],\n",
       "       [ 1.000000e+01,  2.083000e+01,  1.600000e+01,  2.857000e+01,\n",
       "         4.600000e-01,  4.960000e-01,  5.000000e-01,  2.500000e-01,\n",
       "         3.929800e-01,  4.400000e-01,  2.000000e-01,  1.240000e+00],\n",
       "       [ 4.800000e+01,  5.000000e+01,  5.600000e+01,  5.000000e+01,\n",
       "         0.000000e+00,  0.000000e+00,  0.000000e+00,  0.000000e+00,\n",
       "         0.000000e+00,  0.000000e+00,  0.000000e+00,  0.000000e+00],\n",
       "       [ 4.800000e+01,  5.000000e+01,  5.600000e+01,  5.000000e+01,\n",
       "         0.000000e+00,  0.000000e+00,  0.000000e+00,  0.000000e+00,\n",
       "         0.000000e+00,  0.000000e+00,  0.000000e+00,  0.000000e+00],\n",
       "       [ 9.600000e+01,  1.000000e+02,  1.120000e+02,  1.000000e+02,\n",
       "         0.000000e+00,  0.000000e+00,  0.000000e+00,  0.000000e+00,\n",
       "         0.000000e+00,  0.000000e+00,  0.000000e+00,  0.000000e+00]])"
      ]
     },
     "metadata": {},
     "output_type": "display_data"
    },
    {
     "name": "stdout",
     "output_type": "stream",
     "text": [
      "T\n"
     ]
    },
    {
     "data": {
      "image/png": "[encoded data removed]",
      "text/plain": [
       "<Figure size 1000x600 with 1 Axes>"
      ]
     },
     "metadata": {},
     "output_type": "display_data"
    },
    {
     "name": "stdout",
     "output_type": "stream",
     "text": [
      "===============================================================================\n"
     ]
    }
   ],
   "source": [
    "for i in categorial:\n",
    "    print(i)\n",
    "    data_vr = test_fishera(data, i, name_group_all)\n",
    "    print('===============================================================================')"
   ]
  },
  {
   "cell_type": "code",
   "execution_count": null,
   "id": "0cee138b",
   "metadata": {},
   "outputs": [],
   "source": []
  },
  {
   "cell_type": "code",
   "execution_count": null,
   "id": "8d9cec66",
   "metadata": {},
   "outputs": [],
   "source": []
  }
 ],
 "metadata": {
  "kernelspec": {
   "display_name": "Python 3 (ipykernel)",
   "language": "python",
   "name": "python3"
  },
  "language_info": {
   "codemirror_mode": {
    "name": "ipython",
    "version": 3
   },
   "file_extension": ".py",
   "mimetype": "text/x-python",
   "name": "python",
   "nbconvert_exporter": "python",
   "pygments_lexer": "ipython3",
   "version": "3.9.13"
  }
 },
 "nbformat": 4,
 "nbformat_minor": 5
}
