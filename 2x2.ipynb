{
 "cells": [
  {
   "cell_type": "code",
   "execution_count": 146,
   "id": "cb7ee2ef",
   "metadata": {},
   "outputs": [],
   "source": [
    "import numpy as np\n",
    "import pandas as pd\n",
    "import matplotlib.pyplot as plt\n",
    "import scipy.stats as st\n",
    "import seaborn as sns\n",
    "import math\n",
    "from statsmodels.stats.multicomp import pairwise_tukeyhsd\n",
    "import random\n",
    "from scipy.stats import norm\n",
    "from tqdm.auto import tqdm"
   ]
  },
  {
   "cell_type": "code",
   "execution_count": 18,
   "id": "e3216470",
   "metadata": {},
   "outputs": [],
   "source": [
    "data = pd.read_csv('ba2.csv')"
   ]
  },
  {
   "cell_type": "code",
   "execution_count": 19,
   "id": "1f88c55f",
   "metadata": {},
   "outputs": [],
   "source": [
    "# for i in data.columns:\n",
    "#     if len(data[i].unique()) > 4:\n",
    "#         print(f'\"{i}\",')"
   ]
  },
  {
   "cell_type": "code",
   "execution_count": 20,
   "id": "e3108337",
   "metadata": {},
   "outputs": [],
   "source": [
    "TARGET = 'Тяжесть'"
   ]
  },
  {
   "cell_type": "code",
   "execution_count": 21,
   "id": "bd373f80",
   "metadata": {},
   "outputs": [
    {
     "data": {
      "text/plain": [
       "array([3, 2], dtype=int64)"
      ]
     },
     "execution_count": 21,
     "metadata": {},
     "output_type": "execute_result"
    }
   ],
   "source": [
    "data[TARGET].unique()"
   ]
  },
  {
   "cell_type": "code",
   "execution_count": 22,
   "id": "4769d15e",
   "metadata": {},
   "outputs": [],
   "source": [
    "name_group_all = {\n",
    "    'Тяжесть' : ['БАТТ', 'БАСТ'],\n",
    "    'SNP_rs896' : ['TT', 'TC', 'CC']\n",
    "}"
   ]
  },
  {
   "cell_type": "code",
   "execution_count": 23,
   "id": "ca33b303",
   "metadata": {},
   "outputs": [
    {
     "data": {
      "text/plain": [
       "['БАТТ', 'БАСТ']"
      ]
     },
     "execution_count": 23,
     "metadata": {},
     "output_type": "execute_result"
    }
   ],
   "source": [
    "name_group_all[TARGET]"
   ]
  },
  {
   "cell_type": "code",
   "execution_count": 24,
   "id": "440a2e02",
   "metadata": {},
   "outputs": [],
   "source": [
    "#обозначение групп\n",
    "\n",
    "name_group = name_group_all[TARGET]\n",
    "#spisok_group\n",
    "data = data.dropna(subset=[TARGET])\n",
    "data = data.astype({TARGET: np.int32})\n",
    "#обозначение групп"
   ]
  },
  {
   "cell_type": "code",
   "execution_count": 25,
   "id": "ce44a3d3",
   "metadata": {},
   "outputs": [
    {
     "data": {
      "text/plain": [
       "array([3, 2])"
      ]
     },
     "execution_count": 25,
     "metadata": {},
     "output_type": "execute_result"
    }
   ],
   "source": [
    "data[TARGET].unique()"
   ]
  },
  {
   "cell_type": "code",
   "execution_count": 26,
   "id": "ea8b475a",
   "metadata": {},
   "outputs": [],
   "source": [
    "#data['Тяжесть'].sum()"
   ]
  },
  {
   "cell_type": "code",
   "execution_count": 27,
   "id": "f849bfe4",
   "metadata": {},
   "outputs": [],
   "source": [
    "#for i in range(len(data['Тяжесть'])):\n",
    "#    if data.loc[i,'Тяжесть'] == 2:\n",
    "#        data.loc[i,'Тяжесть'] = 1\n",
    "#    elif data.loc[i,'Тяжесть'] == 3:\n",
    "#        data.loc[i,'Тяжесть'] = 0\n",
    "        "
   ]
  },
  {
   "cell_type": "code",
   "execution_count": 28,
   "id": "9dd8fbfb",
   "metadata": {},
   "outputs": [],
   "source": [
    "#необходимо обозначить какие переменные к какой группе относятся\n",
    "scale = [\n",
    "'Приступов_удушья_в_день',\n",
    "'Обострений_в_год',\n",
    "'Длительность_БА_на_момент_исслед',\n",
    "'САД',\n",
    "'ДАД',\n",
    "'ЧД',\n",
    "'ЧСС',\n",
    "'Пульс',\n",
    "'Сатурация_при_поступлении',\n",
    "'Сатурация_при_выписке',\n",
    "'Лейкоциты_при_поступлении',\n",
    "'Эритроциты_при_постпулении',\n",
    "'Гемоглобин_при_поступлении',\n",
    "'Тромбоциты_при_поступлении',\n",
    "'Сегментоядерные_при_поступлении',\n",
    "'Эозинофилы_при_поступлении',\n",
    "'Моноциты_при_поступлении',\n",
    "'Лимфоциты_при_поступлении',\n",
    "'СОЭ_при_поступлении',\n",
    "'Лейкоциты_при_выписке',\n",
    "'Эритроциты_при_выписке',\n",
    "'Гемоглобин_при_выписке',\n",
    "'Тромбоциты_при_выписке',\n",
    "'Сегментоядерные_при_выписке',\n",
    "'Лимфоциты_при_выписке',\n",
    "'СОЭ_при_выписке',\n",
    "'БАК_посев_мокроты',\n",
    "'IgE_общий',\n",
    "'FeF25_при_поступлении',\n",
    "'FeF50_при_поступлении',\n",
    "'FeF75_при_поступлении',\n",
    "'FeF25_при_выписке',\n",
    "'FeF50_при_выписке',\n",
    "'FeF75_при_выписке',\n",
    "'ЧСС_ЭКГ',\n",
    "'Общий_билирубин',\n",
    "'Глюкоза_крови',\n",
    "'Общий_белок',\n",
    "'Холестерин',\n",
    "'Возраст2',\n",
    "'Рост',\n",
    "'Вес',\n",
    "'обострений_за_последний_год',\n",
    "'ACQ_контроль_симптомов_БА',\n",
    "'Самочувствие',\n",
    "'Активность',\n",
    "'Настроение',\n",
    "'Экстраверсия_интроверсия',\n",
    "'Ригидность_пластичность',\n",
    "'Эмоционвозбудим_уравновешенность',\n",
    "'Быстрота_реакц_медлительность',\n",
    "'Активность_пасивность',\n",
    "'Искренность',\n",
    "'Реактивная_тревожность',\n",
    "'Ситуатвиная_тревожность',\n",
    "'Физическая_активность_PF',\n",
    "'Физичпроблемы_в_жизнедеят_RP',\n",
    "'Интенсивность_боли_BP',\n",
    "'Общее_здоровье_GH',\n",
    "'Жизненная_актвиность_VT',\n",
    "'Социальная_активность_SF',\n",
    "'Эмоционал_проблемы_в_жизнедеят_RE',\n",
    "'Психическое_здоровье_MH',\n",
    "'Физич_компонент_здор_PH',\n",
    "'Психич_компонент_здор_MH',\n",
    "'Наличие_вегет_дисфун',\n",
    "'Наличие_вегет_дисфун2',\n",
    "'Апатия1',\n",
    "'Апатия2',\n",
    "'Уровень_VIP',\n",
    "'Уровень_SP',\n",
    "'ЖЕЛ_при_поступлении',\n",
    "'ОФВ1_при_поступлении',\n",
    "'Индекс_Тиффно_при_поступлении',\n",
    "'ЖЕЛ_при_выписке',\n",
    "'ОФВ1_при_выписке',\n",
    "'Индекс_Тиффно_при_выписке',\n",
    "'ИМТ',\n",
    "'VAR_mc',\n",
    "'aVNN_mc',\n",
    "'SDNN_mc',\n",
    "'pNN50',\n",
    "'rMSSD',\n",
    "'SDNNidx_mc',\n",
    "'SDANN_mc',\n",
    "'VLF',\n",
    "'LF_Симпатика',\n",
    "'HF_Парасимпатика',\n",
    "'nHF',\n",
    "'CBBP',\n",
    "'LF_HF',\n",
    "]\n",
    "categorial = [\n",
    "#\"Сезон_обострения_БА\",\n",
    "# \"Худшее_время_суток_по_БА\",\n",
    "# \"Ухудшение_состояния_в_отпуске\",\n",
    "# \"Заболевания_ЖКТ\",\n",
    "# \"Заболевания_ЛОРорганов\",\n",
    "# \"Терапия_БА\",\n",
    "#\"Профессия\",\n",
    "# \"Форма\",\n",
    "# \"Тяжесть\",\n",
    "#\"Оценка_соц_бытовых_условий\",\n",
    "# \"ДН\",\n",
    "# \"Эмфизема\",\n",
    "# \"ХЛС\",\n",
    "# \"Пневмосклероз\",\n",
    "# \"Гормонозависимость\",\n",
    "# \"Проживание\",\n",
    "# \"Профессиональное_заболевание\",\n",
    "# \"ГБ\",\n",
    "# \"ИБС\",\n",
    "# \"ГЭРБ\",\n",
    "# \"Симбикорт\",\n",
    "# \"Формисонид_натив\",\n",
    "# \"Дуоресп_Спиромакс\",\n",
    "# \"Спирива\",\n",
    "# \"Беродуал\",\n",
    "# \"Форадил_комби\",\n",
    "# \"Сальбутамол\",\n",
    "# \"Серетид\",\n",
    "# \"Преднизолон_per_os\",\n",
    "# \"Антилейкотриеновые\",\n",
    "# \"Беклометазон\",\n",
    "# \"Эуфиллин_per_os\",\n",
    "# \"Сингуляр\",\n",
    "# \"Фостер\",\n",
    "# \"Сибри\",\n",
    "# \"Беротек\",\n",
    "# \"Ипратерол\",\n",
    "# \"Палочкоядерные_при_поступлении\",\n",
    "# \"Базофилы_при_постпулении\",\n",
    "# \"Палочкоядерные_при_выписке\",\n",
    "# \"Эозинофилы_при_выпсике\",\n",
    "# \"Моноциты_при_выписке\",\n",
    "# \"Базофилы_при_выписке\",\n",
    "# \"Наличие_суносовой_аритмии\",\n",
    "# \"Наличие_гипертрофии_ЛЖ\",\n",
    "# \"Эозинофилы_в_мокроте\",\n",
    "# \"Пол\",\n",
    "# \"Наличие_работы\",\n",
    "# \"Работа_в_ночную_смену\",\n",
    "# \"Профессиональый_контакт\",\n",
    "# \"Образование\",\n",
    "# \"Наличие_аллергической_реакции\",\n",
    "# \"Аллерг_реакция_у_родственников\",\n",
    "# \"Наличие_заболевания_ЖКТ\",\n",
    "# \"Наличие_заболевания_ЛОРорганов\",\n",
    "# \"Наличие_грибковых_заболеваний\",\n",
    "# \"Ухудшение_состояния_при_физнагруз\",\n",
    "# \"Ухудшение_состояния_во_время_еды\",\n",
    "# \"Влияние_менструальногоцикла_на_БА\",\n",
    "# \"Наличие_ОтёкаКвинке_в_анамнезе\",\n",
    "# \"Наличие_стресса\",\n",
    "# \"Наличие_других_заболеваний\",\n",
    "\"SNP_rs896\",\n",
    "# \"SNP_rs2072100\",\n",
    "# \"SNP_rs3771829\",\n",
    "# \"SNP_rs3823082\",\n",
    "# \"Фенотип\",\n",
    "# \"Коридор\",\n",
    "# \"Симпатика\",\n",
    "]\n"
   ]
  },
  {
   "cell_type": "code",
   "execution_count": 29,
   "id": "114d6f72",
   "metadata": {},
   "outputs": [],
   "source": [
    "spisok_group = categorial"
   ]
  },
  {
   "cell_type": "code",
   "execution_count": 30,
   "id": "14fae622",
   "metadata": {},
   "outputs": [
    {
     "data": {
      "text/plain": [
       "array([3, 2])"
      ]
     },
     "execution_count": 30,
     "metadata": {},
     "output_type": "execute_result"
    }
   ],
   "source": [
    "data[TARGET].unique()"
   ]
  },
  {
   "cell_type": "code",
   "execution_count": null,
   "id": "115abd6c",
   "metadata": {},
   "outputs": [],
   "source": [
    "χ 2 p OR CI - 95%"
   ]
  },
  {
   "cell_type": "code",
   "execution_count": 77,
   "id": "62b1eff5",
   "metadata": {},
   "outputs": [
    {
     "data": {
      "text/plain": [
       "3"
      ]
     },
     "execution_count": 77,
     "metadata": {},
     "output_type": "execute_result"
    }
   ],
   "source": [
    "len(data[\"SNP_rs896\"].unique())"
   ]
  },
  {
   "cell_type": "code",
   "execution_count": 152,
   "id": "d6471473",
   "metadata": {},
   "outputs": [
    {
     "name": "stdout",
     "output_type": "stream",
     "text": [
      "[[10. 16.]\n",
      " [38. 40.]]\n",
      "0.6578947368421053 0.4961334758978285\n",
      "[[28. 24.]\n",
      " [20. 32.]]\n",
      "1.8666666666666667 0.1682549826189439\n",
      "[[10. 16.]\n",
      " [38. 40.]]\n",
      "0.6578947368421053 0.4961334758978285\n",
      "[[10.    16.     0.     0.     0.66   0.658  0.66   0.   ]\n",
      " [28.    24.     0.     0.     1.87   1.867  1.87   0.   ]\n",
      " [10.    16.     0.     0.     0.66   0.658  0.66   0.   ]\n",
      " [48.    56.     0.     0.     0.     0.     0.     0.   ]]\n"
     ]
    }
   ],
   "source": [
    "data = data.dropna(subset=[\"SNP_rs896\"])\n",
    "data = data.astype({\"SNP_rs896\": np.int32})\n",
    "n_ind = len(data[\"SNP_rs896\"].unique())+1\n",
    "data_vr = np.zeros((n_ind, 8))\n",
    "col_ch = 0\n",
    "for col in data[TARGET].unique():\n",
    "    vsego = 0\n",
    "    ind_ch = 0\n",
    "    for ind in data[\"SNP_rs896\"].unique():\n",
    "        data_vr[ind_ch, col_ch] = data[(data['SNP_rs896'] == ind) & (data[TARGET] == col)][TARGET].count()\n",
    "        vsego += data[(data['SNP_rs896'] == ind) & (data[TARGET] == col)][TARGET].count()\n",
    "        ind_ch += 1\n",
    "    data_vr[len(data[\"SNP_rs896\"].unique()),col_ch] = vsego\n",
    "    col_ch += 1\n",
    "    \n",
    "data_fisher = np.zeros((2,2))   \n",
    "for i in range(n_ind-1):\n",
    "    data_fisher[0,0] = data_vr[i,0]\n",
    "    data_fisher[0,1] = data_vr[i,1]\n",
    "    data_fisher[1,0] = data_vr[n_ind-1,0] - data_vr[i,0]\n",
    "    data_fisher[1,1] = data_vr[n_ind-1,1] - data_vr[i,1]\n",
    "    x, p = st.fisher_exact(data_fisher)\n",
    "    data_vr[i,4] = round(x, 2)\n",
    "    data_vr[i,5] = round(x, 3)\n",
    "    data_vr[i,6] = round((data_vr[i,0] / (data_vr[n_ind-1,0] - data_vr[i,0])) / (data_vr[i,1] / (data_vr[n_ind-1,1] - data_vr[i,1])),2)\n",
    "    print(data_fisher)\n",
    "    print(x, p)\n",
    "print(data_vr)\n",
    "\n",
    "# data2 = pd.DataFrame(data2)\n",
    "# name_col = list(data[TARGET].unique())\n",
    "# name_col.append('χ2')\n",
    "# name_col.append('p')\n",
    "# name_col.append('OR')\n",
    "# name_col.append('CI - 95%')\n",
    "# print(name_col)\n",
    "# #data2.columns = name_col\n",
    "# data2.index = data[\"SNP_rs896\"].unique()\n",
    "# vsego_df = pd.DataFrame([[0,0]], index = [len(data2.index)], columns = data[TARGET].unique())\n",
    "# name = name_group_all['SNP_rs896']\n",
    "\n",
    "# print(name)\n",
    "#data2 = pd.concat([data2, vsego_df], axis = 0)\n",
    "# try: data2.columns = name_group_all[TARGET]\n",
    "# except: data2.columns = data[TARGET].unique()\n",
    "\n",
    "# try: data2.index = (name_group_all['SNP_rs896'])\n",
    "# except: data2.index = data[\"SNP_rs896\"].unique()\n",
    "\n",
    "# data2  \n"
   ]
  },
  {
   "cell_type": "code",
   "execution_count": 137,
   "id": "f8ca58e5",
   "metadata": {},
   "outputs": [
    {
     "data": {
      "text/plain": [
       "28"
      ]
     },
     "execution_count": 137,
     "metadata": {},
     "output_type": "execute_result"
    }
   ],
   "source": [
    "data[(data['SNP_rs896'] == 1) & (data[TARGET] == 3)][TARGET].count()"
   ]
  },
  {
   "cell_type": "markdown",
   "id": "8ca7d888",
   "metadata": {},
   "source": [
    "## print(st.fisher_exact(data))"
   ]
  },
  {
   "cell_type": "code",
   "execution_count": null,
   "id": "a1ab4609",
   "metadata": {},
   "outputs": [],
   "source": []
  }
 ],
 "metadata": {
  "kernelspec": {
   "display_name": "Python 3 (ipykernel)",
   "language": "python",
   "name": "python3"
  },
  "language_info": {
   "codemirror_mode": {
    "name": "ipython",
    "version": 3
   },
   "file_extension": ".py",
   "mimetype": "text/x-python",
   "name": "python",
   "nbconvert_exporter": "python",
   "pygments_lexer": "ipython3",
   "version": "3.9.13"
  }
 },
 "nbformat": 4,
 "nbformat_minor": 5
}
